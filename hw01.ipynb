{
  "nbformat": 4,
  "nbformat_minor": 0,
  "metadata": {
    "colab": {
      "name": "hw01.ipynb",
      "version": "0.3.2",
      "provenance": [],
      "collapsed_sections": [],
      "include_colab_link": true
    },
    "kernelspec": {
      "name": "python3",
      "display_name": "Python 3"
    },
    "accelerator": "GPU"
  },
  "cells": [
    {
      "cell_type": "markdown",
      "metadata": {
        "id": "view-in-github",
        "colab_type": "text"
      },
      "source": [
        "<a href=\"https://colab.research.google.com/github/dragonaeve/cmpe255-spring19/blob/master/hw01.ipynb\" target=\"_parent\"><img src=\"https://colab.research.google.com/assets/colab-badge.svg\" alt=\"Open In Colab\"/></a>"
      ]
    },
    {
      "metadata": {
        "id": "TEh3GLkKIQxj",
        "colab_type": "code",
        "outputId": "62939b86-31cb-468c-fe05-b91f902fa114",
        "colab": {
          "base_uri": "https://localhost:8080/",
          "height": 122
        }
      },
      "cell_type": "code",
      "source": [
        "from google.colab import drive\n",
        "drive.mount('/content/gdrive')"
      ],
      "execution_count": 0,
      "outputs": [
        {
          "output_type": "stream",
          "text": [
            "Go to this URL in a browser: https://accounts.google.com/o/oauth2/auth?client_id=947318989803-6bn6qk8qdgf4n4g3pfee6491hc0brc4i.apps.googleusercontent.com&redirect_uri=urn%3Aietf%3Awg%3Aoauth%3A2.0%3Aoob&scope=email%20https%3A%2F%2Fwww.googleapis.com%2Fauth%2Fdocs.test%20https%3A%2F%2Fwww.googleapis.com%2Fauth%2Fdrive%20https%3A%2F%2Fwww.googleapis.com%2Fauth%2Fdrive.photos.readonly%20https%3A%2F%2Fwww.googleapis.com%2Fauth%2Fpeopleapi.readonly&response_type=code\n",
            "\n",
            "Enter your authorization code:\n",
            "··········\n",
            "Mounted at /content/gdrive\n"
          ],
          "name": "stdout"
        }
      ]
    },
    {
      "metadata": {
        "id": "Mo9X2EcPEiId",
        "colab_type": "code",
        "outputId": "d8d33db0-10f1-4871-9ce5-66e320859c7a",
        "colab": {
          "base_uri": "https://localhost:8080/",
          "height": 207
        }
      },
      "cell_type": "code",
      "source": [
        "!head '/content/gdrive/My Drive/Colab Notebooks/review.json'"
      ],
      "execution_count": 0,
      "outputs": [
        {
          "output_type": "stream",
          "text": [
            "{\"review_id\":\"Q1sbwvVQXV2734tPgoKj4Q\",\"user_id\":\"hG7b0MtEbXx5QzbzE6C_VA\",\"business_id\":\"ujmEBvifdJM6h6RLv4wQIg\",\"stars\":1.0,\"useful\":6,\"funny\":1,\"cool\":0,\"text\":\"Total bill for this horrible service? Over $8Gs. These crooks actually had the nerve to charge us $69 for 3 pills. I checked online the pills can be had for 19 cents EACH! Avoid Hospital ERs at all costs.\",\"date\":\"2013-05-07 04:34:36\"}\n",
            "{\"review_id\":\"GJXCdrto3ASJOqKeVWPi6Q\",\"user_id\":\"yXQM5uF2jS6es16SJzNHfg\",\"business_id\":\"NZnhc2sEQy3RmzKTZnqtwQ\",\"stars\":5.0,\"useful\":0,\"funny\":0,\"cool\":0,\"text\":\"I *adore* Travis at the Hard Rock's new Kelly Cardenas Salon!  I'm always a fan of a great blowout and no stranger to the chains that offer this service; however, Travis has taken the flawless blowout to a whole new level!  \\n\\nTravis's greets you with his perfectly green swoosh in his otherwise perfectly styled black hair and a Vegas-worthy rockstar outfit.  Next comes the most relaxing and incredible shampoo -- where you get a full head message that could cure even the very worst migraine in minutes --- and the scented shampoo room.  Travis has freakishly strong fingers (in a good way) and use the perfect amount of pressure.  That was superb!  Then starts the glorious blowout... where not one, not two, but THREE people were involved in doing the best round-brush action my hair has ever seen.  The team of stylists clearly gets along extremely well, as it's evident from the way they talk to and help one another that it's really genuine and not some corporate requirement.  It was so much fun to be there! \\n\\nNext Travis started with the flat iron.  The way he flipped his wrist to get volume all around without over-doing it and making me look like a Texas pagent girl was admirable.  It's also worth noting that he didn't fry my hair -- something that I've had happen before with less skilled stylists.  At the end of the blowout & style my hair was perfectly bouncey and looked terrific.  The only thing better?  That this awesome blowout lasted for days! \\n\\nTravis, I will see you every single time I'm out in Vegas.  You make me feel beauuuutiful!\",\"date\":\"2017-01-14 21:30:33\"}\n",
            "{\"review_id\":\"2TzJjDVDEuAW6MR5Vuc1ug\",\"user_id\":\"n6-Gk65cPZL6Uz8qRm3NYw\",\"business_id\":\"WTqjgwHlXbSFevF32_DJVw\",\"stars\":5.0,\"useful\":3,\"funny\":0,\"cool\":0,\"text\":\"I have to say that this office really has it together, they are so organized and friendly!  Dr. J. Phillipp is a great dentist, very friendly and professional.  The dental assistants that helped in my procedure were amazing, Jewel and Bailey helped me to feel comfortable!  I don't have dental insurance, but they have this insurance through their office you can purchase for $80 something a year and this gave me 25% off all of my dental work, plus they helped me get signed up for care credit which I knew nothing about before this visit!  I highly recommend this office for the nice synergy the whole office has!\",\"date\":\"2016-11-09 20:09:03\"}\n",
            "{\"review_id\":\"yi0R0Ugj_xUx_Nek0-_Qig\",\"user_id\":\"dacAIZ6fTM6mqwW5uxkskg\",\"business_id\":\"ikCg8xy5JIg_NGPx-MSIDA\",\"stars\":5.0,\"useful\":0,\"funny\":0,\"cool\":0,\"text\":\"Went in for a lunch. Steak sandwich was delicious, and the Caesar salad had an absolutely delicious dressing, with a perfect amount of dressing, and distributed perfectly across each leaf. I know I'm going on about the salad ... But it was perfect.\\n\\nDrink prices were pretty good.\\n\\nThe Server, Dawn, was friendly and accommodating. Very happy with her.\\n\\nIn summation, a great pub experience. Would go again!\",\"date\":\"2018-01-09 20:56:38\"}\n",
            "{\"review_id\":\"11a8sVPMUFtaC7_ABRkmtw\",\"user_id\":\"ssoyf2_x0EQMed6fgHeMyQ\",\"business_id\":\"b1b1eb3uo-w561D0ZfCEiQ\",\"stars\":1.0,\"useful\":7,\"funny\":0,\"cool\":0,\"text\":\"Today was my second out of three sessions I had paid for. Although my first session went well, I could tell Meredith had a particular enjoyment for her male clients over her female. However, I returned because she did my teeth fine and I was pleased with the results. When I went in today, I was in the whitening room with three other gentlemen. My appointment started out well, although, being a person who is in the service industry, I always attend to my female clientele first when a couple arrives. Unbothered by those signs, I waited my turn. She checked on me once after my original 30 minute timer to ask if I was ok. She attended my boyfriend on numerous occasions, as well as the other men, and would exit the room without even asking me or looking to see if I had any irritation. Half way through, another woman had showed up who she was explaining the deals to in the lobby. While she admits timers must be reset half way through the process, she reset my boyfriends, left, rest the gentleman furthest away from me who had time to come in, redeem his deal, get set, and gave his timer done, before me, then left, and at this point my time was at 10 minutes. So, she should have reset it 5 minutes ago, according to her. While I sat there patiently this whole time with major pain in my gums, i watched the time until the lamp shut off. Not only had she reset two others, explained deals to other guest, but she never once checked on my time. When my light turned off, I released the stance of my mouth to a more relaxed state, assuming I was only getting a thirty minute session instead of the usual 45, because she had yet to come in. At this point, the teeth formula was not only burning the gum she neglected for 25 minutes now, but it began to burn my lips. I began squealing and slapping my chair trying to get her attention from the other room in a panic. I was in so much pain, that by the time she entered the room I was already out of my chair. She finally then acknowledged me, and asked if she could put vitamin E on my gum burn (pictured below). At this point, she has treated two other gums burns, while neglecting me, and I was so irritated that I had to suffer, all I wanted was to leave. While I waited for my boyfriend, she kept harassing me about the issue. Saying, \\\"well burns come with teeth whitening.\\\" While I totally agree, and under justifiable circumstances would not be as irritate, it could have easily been avoid if she had checked on me even a second time, so I could let her know. Not only did she never check on my physical health, she couldn't even take two seconds to reset the timer, which she even admitted to me. Her accuse was that she was coming in to do it, but I had the light off for a solid two minutes before I couldn't stand the pain. She admitted it should be reset every 15 minutes, which means for 25 minutes she did not bother to help me at all. Her guest in the lobby then proceeded to attack me as well, simply because I wanted to leave after the way I was treated. I also expected a refund for not getting a complete session today, due to the neglect, and the fact I won't be returning for my last, she had failed to do that. She was even screaming from the door, and continued to until my boyfriend and I were down the steps. I have never in my life been more appalled by a grown woman's behavior, who claims to be in the business for \\\"10 years.\\\" Admit your wrongs, but don't make your guest feel unwelcome because you can't do you job properly.\",\"date\":\"2018-01-30 23:07:38\"}\n",
            "{\"review_id\":\"fdiNeiN_hoCxCMy2wTRW9g\",\"user_id\":\"w31MKYsNFMrjhWxxAb5wIw\",\"business_id\":\"eU_713ec6fTGNO4BegRaww\",\"stars\":4.0,\"useful\":0,\"funny\":0,\"cool\":0,\"text\":\"I'll be the first to admit that I was not excited about going to La Tavolta. Being a food snob, when a group of friends suggested we go for dinner I looked online at the menu and to me there was nothing special and it seemed overpriced.  Im also not big on ordering pasta when I go out. Alas, I was outnumbered. Thank goodness! I ordered the sea bass special. It was to die for. Cooked perfectly, seasoned perfectly, perfect portion. I can not say enough good things about this dish. When the server asked how it was he seemed very proud of the dish and said, \\\" doesn't she (the chef) do an incredible job?\\\" She does. \\n\\nMy hubby got the crab tortellini and also loved his. I heard \\\"mmmm this is so good\\\" from all around the table. Our waiter was super nice and even gave us free desserts because we were some of the last people in the restaurant. Service was very slow and the place was PACKED but we had our jugs of wine and a large group with good conversation so it didn't seem to bother anyone.\\n\\nSo-\\n\\nDo order the calamari and fried zucchini appetizers. Leave out the mussels. \\n\\nIf they have the sea bass special, I highly recommend it. The chicken parm and crab tortellini were also very good and very big. The chicken Romano was a bit bland. The house salads were teeny. \\n\\nDo make a reservation but still expect to wait for your food. Go with a large group of people and plan for it to be loud. Don't go with a date unless you're fighting and don't feel like hearing anything they have to say.  Ask to sit in the side room if it's available.\",\"date\":\"2013-01-20 13:25:59\"}\n",
            "{\"review_id\":\"G7XHMxG0bx9oBJNECG4IFg\",\"user_id\":\"jlu4CztcSxrKx56ba1a5AQ\",\"business_id\":\"3fw2X5bZYeW9xCz_zGhOHg\",\"stars\":3.0,\"useful\":5,\"funny\":4,\"cool\":5,\"text\":\"Tracy dessert had a big name in Hong Kong and the one in First Markham place has been here for many years now! \\n\\nCame in for some Chinese dessert, and I must say their selection has increased tremendously over the years. I might as well add that the price has also increased tremendously as well. The waitress gave us tea, which I could taste had red date in it. Fancy!\\n\\nA simple taro with coconut with tapioca pearls was like $5.25 or something. Basically all the desserts were more than $5. That's crazy! I can literally just make this dessert at home and for a bowl, it would probably cost like $0.50. A few years ago, I think I can still get it for like $3-$4, which is more reasonable, but wow, more than $5 is a little over the top for this dessert. Though I must say, it is Tracy Dessert, and they are a little more on the expensive side. \\n\\nI also saw other items on the menu like fish balls, chicken wings, shaved ice. My friend got a mango drink with fresh mango in it! \\n\\nI'm also surprised how many people come to Tracy Dessert after work. We came on a Sunday and the tables were always filled. I think the amount of tables they had were just perfect because no one really waited for seats for a long time, but the tables kept filling up once a table was finished.\",\"date\":\"2016-05-07 01:21:02\"}\n",
            "{\"review_id\":\"8e9HxxLjjqc9ez5ezzN7iQ\",\"user_id\":\"d6xvYpyzcfbF_AZ8vMB7QA\",\"business_id\":\"zvO-PJCpNk4fgAVUnExYAA\",\"stars\":1.0,\"useful\":3,\"funny\":1,\"cool\":1,\"text\":\"This place has gone down hill.  Clearly they have cut back on staff and food quality\\n\\nMany of the reviews were written before the menu changed.  I've been going for years and the food quality has gone down hill.\\n\\nThe service is slow & my salad, which was $15, was as bad as it gets.\\n\\nIt's just not worth spending the money on this place when there are so many other options.\",\"date\":\"2010-10-05 19:12:35\"}\n",
            "{\"review_id\":\"qrffudO73zsslZbe8B9D3Q\",\"user_id\":\"sG_h0dIzTKWa3Q6fmb4u-g\",\"business_id\":\"b2jN2mm9Wf3RcrZCgfo1cg\",\"stars\":2.0,\"useful\":1,\"funny\":0,\"cool\":0,\"text\":\"I was really looking forward to visiting after having some of their beers. The \\\"Man O'War\\\" quickly became my favorite DIPA; the Rusulka Vanilla Stout is a good thick, sweet stout; and the Ironclad is a top notch IPA. \\nThe only big miss on their beers I've had is the Big Chuck Barleywine. It could probably benefit greatly with age, but at this age all there is to taste is the alcohol.  \\nNonetheless, I had enough to convince me that the other beers I hadn't had from them would be top notch... and they are! \\nThe reason for the 2 stars should not reflect the quality of the brewers, they obviously know their craft well! \\nThe servers are great and friendly.... but relying on two servers to wait on 100+ customers says a lot about how inexperienced management must be. In fact, after waiting 15 mins at a dirty table I was finally able to track down someone I guessed was an employee to let them know we were even there! \\nAfter another 5+ mins, the GM finally stopped over to take our drink order. The smugness of this guy was amazing. The thought of offering a simple apology never seemed to enter into his head. \\nThis is the time a server finally stopped by to pick up the non-final check left by the party before us... who didn't seem very pleased when leaving. \\nThe toast & cheese was good, but by the time we were able to dig into their heartiest offering of food, saltines and butter may have been equally pleasing.\",\"date\":\"2015-01-18 14:04:18\"}\n",
            "{\"review_id\":\"RS_GTIT6836bCaPy637kNQ\",\"user_id\":\"nMeCE5-xsdleyxYuNZ_7rA\",\"business_id\":\"oxwGyA17NL6c5t1Etg5WgQ\",\"stars\":3.0,\"useful\":1,\"funny\":0,\"cool\":1,\"text\":\"It's a giant Best Buy with 66 registers.  I don't get it.  What's the big deal about this place??\",\"date\":\"2012-02-29 21:52:43\"}\n"
          ],
          "name": "stdout"
        }
      ]
    },
    {
      "metadata": {
        "id": "ROeztewAo7lj",
        "colab_type": "code",
        "colab": {}
      },
      "cell_type": "code",
      "source": [
        "def review(n):\n",
        "  if n < 3:\n",
        "    return -1\n",
        "  elif n == 3:\n",
        "    return 0\n",
        "  else:\n",
        "    return 1"
      ],
      "execution_count": 0,
      "outputs": []
    },
    {
      "metadata": {
        "id": "Fe6VVUvmkqp5",
        "colab_type": "code",
        "colab": {}
      },
      "cell_type": "code",
      "source": [
        "import json\n",
        "filename = \"/content/gdrive/My Drive/Colab Notebooks/review.json\"\n",
        "data=[]\n",
        "data_labels=[]\n",
        "orig_stars=[]\n",
        "with open(filename, 'r') as f:\n",
        "  for index, line in enumerate(f):\n",
        "    if index < 100000:\n",
        "      tmp = json.loads(line)\n",
        "      data.append(tmp['text'].replace(\"\\n\", \" \"))\n",
        "      data_labels.append(review(int(tmp['stars'])))\n",
        "      orig_stars.append(int(tmp['stars']))\n",
        "    else:\n",
        "      break\n",
        "f.close()\n",
        "#train on 100k samples only, any more runs into in-memory issues"
      ],
      "execution_count": 0,
      "outputs": []
    },
    {
      "metadata": {
        "id": "Vl-6Kt9RnTSX",
        "colab_type": "code",
        "colab": {}
      },
      "cell_type": "code",
      "source": [
        "from sklearn.feature_extraction.text import HashingVectorizer\n",
        "vectorizer = HashingVectorizer(\n",
        "    strip_accents='unicode', stop_words='english', analyzer='word')\n",
        "features_nd = vectorizer.fit_transform(data)"
      ],
      "execution_count": 0,
      "outputs": []
    },
    {
      "metadata": {
        "id": "ioxVp8eyppE0",
        "colab_type": "code",
        "colab": {}
      },
      "cell_type": "code",
      "source": [
        "from sklearn.model_selection import train_test_split\n",
        "X_train, X_test, y_train, y_test  = train_test_split(\n",
        "    features_nd, \n",
        "    data_labels,\n",
        "    train_size=0.80,\n",
        "    test_size=0.20,\n",
        "    random_state=1234)\n",
        "\n",
        "X_train2, X_test2, y_train2, y_test2  = train_test_split(\n",
        "    data, \n",
        "    orig_stars,\n",
        "    train_size=0.80,\n",
        "    test_size=0.20,\n",
        "    random_state=1234)\n",
        "\n",
        "from sklearn.linear_model import LogisticRegression\n",
        "log_model = LogisticRegression(solver='sag', multi_class='auto')\n",
        "\n",
        "log_model = log_model.fit(X=X_train, y=y_train)"
      ],
      "execution_count": 0,
      "outputs": []
    },
    {
      "metadata": {
        "id": "tjtDAFSs4V6H",
        "colab_type": "code",
        "colab": {
          "base_uri": "https://localhost:8080/",
          "height": 51
        },
        "outputId": "c6832533-b7f9-42e8-c734-2b4309562c28"
      },
      "cell_type": "code",
      "source": [
        "y_pred = log_model.predict(X_test)\n",
        "\n",
        "# print accuracy\n",
        "from sklearn.metrics import accuracy_score\n",
        "# TODO\n",
        "print(\"Accuracy={}\".format(accuracy_score(y_test,y_pred)))\n",
        "\n",
        "#print cross validation\n",
        "from sklearn.model_selection import cross_val_score\n",
        "print(\"Cross Validation={}\".format(cross_val_score(log_model, X_train, y_train, cv=3)))"
      ],
      "execution_count": 25,
      "outputs": [
        {
          "output_type": "stream",
          "text": [
            "Accuracy=0.85165\n",
            "Cross Validation=[0.84610769 0.84752119 0.84823371]\n"
          ],
          "name": "stdout"
        }
      ]
    },
    {
      "metadata": {
        "id": "HmoIvuG_7j3x",
        "colab_type": "code",
        "colab": {
          "base_uri": "https://localhost:8080/",
          "height": 187
        },
        "outputId": "96119203-9ea9-499e-b4b5-99173d313ca9"
      },
      "cell_type": "code",
      "source": [
        "from sklearn.metrics import classification_report\n",
        "print(classification_report(y_test, y_pred))"
      ],
      "execution_count": 26,
      "outputs": [
        {
          "output_type": "stream",
          "text": [
            "              precision    recall  f1-score   support\n",
            "\n",
            "          -1       0.82      0.83      0.83      4478\n",
            "           0       0.53      0.25      0.34      2201\n",
            "           1       0.88      0.96      0.92     13321\n",
            "\n",
            "   micro avg       0.85      0.85      0.85     20000\n",
            "   macro avg       0.75      0.68      0.69     20000\n",
            "weighted avg       0.83      0.85      0.83     20000\n",
            "\n"
          ],
          "name": "stdout"
        }
      ]
    },
    {
      "metadata": {
        "id": "b8Ot1wRM_VfM",
        "colab_type": "code",
        "colab": {}
      },
      "cell_type": "code",
      "source": [
        "def sentiment(n):\n",
        "  if n==1:\n",
        "    return '+'\n",
        "  if n==0:\n",
        "    return '0'\n",
        "  if n==-1:\n",
        "    return '-'"
      ],
      "execution_count": 0,
      "outputs": []
    },
    {
      "metadata": {
        "id": "EDwrnYCU6MaE",
        "colab_type": "code",
        "colab": {
          "base_uri": "https://localhost:8080/",
          "height": 377
        },
        "outputId": "cdf1cf5d-8bf3-423e-c395-9f925be23e8d"
      },
      "cell_type": "code",
      "source": [
        "# sample of rankings and classsifications\n",
        "for i in range(20):\n",
        "    print(\":pred:\",sentiment(y_pred[i]),\":stars:\", y_test2[i],\":text:\", X_test2[i])"
      ],
      "execution_count": 39,
      "outputs": [
        {
          "output_type": "stream",
          "text": [
            ":pred: - :stars: 1 :text: I was going to be a first-time customer but looks like I'll never be a customer at all. I had a family emergency and I had to leave town and I purchased a Groupon for the $40 for the $25 purchased. My coupon literally expires the day that I fly back in to town. I was told by one of the assistant managers to ask for Doug the general manager because he's very good at approving coupons especially for brand new customers and upon calling them today the inflection in his voice and the way he handled the phone call was very arrogant and very careless and did not seem to care that I would not only lose money on my coupon but also the fact that I was a new customer and would rather argue then make an exception even after I was told he is good at these things and has no issues whatsoever but apparently he does not care about customers especially new ones. I always thought the customer was right but I guess I thought wrong. As long as Doug is managing Battista's Hole in the Wall, I will never evem consider to patron and I'll be sure to let other people know just the same. Such a shame!\n",
            ":pred: + :stars: 5 :text: My \"go to\" for everything healthy!  Love the variety.  Everything is fresh.  Prices can't be beat. Amazing staff, truly knowledgeable. Danny and Kelsea make my day\n",
            ":pred: + :stars: 4 :text: We had dinner here recently.  The place was busy but we were able to get a table right away.  We started with two glasses of wine and the mixed tempura.  The tempura was really good - nice and crispy and not too greasy.  Good mix of shrimp and different veggies.  I had the leftovers the next day.  They did not warm up very well and got soggy but they still tasted good.  For our entrees, we had the honey walnut shrimp, tangerine beef and house chow mein.  The chow mein were my favorite.  Lots of noodles and not filled with cabbage like some places do.  The shrimp were tasty, a little too much mayo but still ok.  The beef was a little too strong for me but my mom liked it.    She will enjoy the leftovers later in the week.  Our server was good.  Came around often and checked on us.\n",
            ":pred: + :stars: 4 :text: Went here a couple of months back.. Food was great, service was great.. I was disappointed that the menu was really small.. But when you go you Must try deep fried ice cream !!\n",
            ":pred: + :stars: 5 :text: Love this place! The food is great. The portions are Hugh! The service is the best.\n",
            ":pred: + :stars: 1 :text: The chicken sandwich was rubbery and the waiter could care less if my wife was happy. The service was lacking to say the least as well. Not really happy.\n",
            ":pred: + :stars: 5 :text: My cousin was involved in an accident in Vegas and his car was destroyed. While he was in the hospital he was issued a ticket for going through a red light.  We were referred to Wooldridge Law by a firm in Salem, Oregon and we are extremely happy that we used Wooldridge Law.  The entire staff were awesome and worked very hard on our behalf to resolve this matter. We cannot say enough good things about how hard they worked for us. If you ever need or have a problem please call Wooldridge Law Ltd. They are the best!!!!\n",
            ":pred: - :stars: 1 :text: The food was below average. The service is worthless. Our server didn't even care to be working at this place from my observation. She was rude, she forgot to put the order in, she didn't know the beer list. We had to wait 30 minutes for 1 sushi roll and a salad that we didn't even eat. I won't be coming back.\n",
            ":pred: + :stars: 4 :text: Just wanted to try a new place to eat as I was visiting PA with a friend. The atmosphere was very relaxing and laid back. The bathrooms were very clean. The chips and queso, especially the white cheese, were amazing. The chips alone have a very sweet/salty taste. We had a nice waiter, Ben who seemed to really know the menu and what they had to offer. Honestly the only con I can give is the curbside appeal. The restaurant sits in between houses and just not normally what you would picture as a restaurant. With that said, once you walk through the door, everything changes! Overall just a very laid back and enjoyable place to eat!\n",
            ":pred: + :stars: 5 :text: The shopgirl Diane is so so sweet. She showed me all the different products and was really knowledgable. I wasnt sure if I'd buy anything but by the end she made me a believer! The products smell so good and the staff (esp Diane) are wonderful!\n",
            ":pred: + :stars: 3 :text: I bought a groupon to try their mani pedi here because the place looked really beautiful. When I got there of course the place was very beautiful and nicely decorated inside. Nobody was there to greet me when I came inside. I finally got greeted like a minute or two later and I was told to take a seat to wait for somebody to come do my nails. I picked out the color while I waited. I really think the pedicure chair was very nice but it didn't have any massage for it so you just sat there while you get a pedicure. My pedicure was normal and nothing special. The lady painting my nails was a bit older so she took her time painting because I think her eyesight wasn't as great as it could be. After my pedicure we moved to another table area to do my nails and they were a bit high to sit at. My nails looked fine but it took a while. I'm glad the lady took her time but I would say my experience was average. This nail salon is very beautiful but I definitely think it has room for improvements and can grow. The price is a bit more than other places but they do send you discounts and coupons if you ask to be on the email list.\n",
            ":pred: + :stars: 5 :text: Went this evening with relatives from the east coast.One member of our party of 4 is an avid brewery visitor,visiting microbreweries whenever he travels.I don't drink at all,but he's quite the beer connesseuir.So he did one of their beer sampler thingies and enjoyed a few of the brews.He said he's had better though. The resturant was empty and our server Ryan was incredibly polished and professional.He knew not only the Brewery/resturant's offerings,he was happy to make suggestions as well. He knew a lot about the Tempe area's fast paced history which endeared him to all of us.He was engaged,present and it was obvious he made it a point of bringing excellence to the table.Yes,pun intended. The food was plentiful,fresh and tasty. The prices fair for the portion and quality. Would I be back?Yes,under similar circumstances. Personally I despeise all that is Mill Ave with it's frat boy and girl mentality and am hard pressed to venture east of 24th street. I wasn't expecting much from a place I deemed \"touristy\",but was ever so pleasantly surprised!\n",
            ":pred: + :stars: 5 :text: All right folks: You have been asking for a better sports bar, and I am here to tell you that you have found it. The sports bar scene doesn't get better in Phoenix than Caps. Long have I been allured by the promise of wings and sports on tv by Hooters or Buffalo Wild Wings only to be spurned by incredibly slow service and inconsistent food. Caps is the only sports bar that I have ever been to that consistently delivers excellent customer service and food superior to the competition. The wings are top notch and completely customizable, and fries are always delicious. Because I can count on them to get me in and out in a reasonable amount of time, I often visit during my lunch break during the workweek.\n",
            ":pred: + :stars: 5 :text: Was looking for a place to have lunch on Yelp last week and found the Crepe Bar!  This place is fantastic! Sweet and Savory Crepes!? Unbelievable! I think the price is just right, because it is a specialty dish so I don't have any problem paying the $7 for an amazing crepe. The First Time dessert crepe is to die for, as well as the Chicken Griddle.  Be sure to try one of the Grown Up Sodas they have in the fridge. I spoke to the owner about them and he just got them and they are fantastic! (And I'm not really a soda kinda guy)  I thoroughly recommend this place to anyone, I just found it last week and have already been there twice since and have recommended it to everyone I know!\n",
            ":pred: + :stars: 5 :text: Going to start off by mentioning that I will go to nobody other than Zachary Venezia if I have any questions at all pertaining to healthcare. He is extremely professional and truly cares about his customers. I had specific inquiries when it came to Medicare and healthcare and Zachary was there every step of the way. He even came to my location to meet up with me to discuss any questions I had! Although I am taking more time to decide which route I want to go, I know for a fact I will go through him to sign up. Keep in mind, he makes appointments with his customers and works around their schedules. This is very convenient and I highly recommend him.\n",
            ":pred: - :stars: 2 :text: Not a fan of Hertz. My first impression of this was the guy who was giving me my car trying to almost double my car rental price. He asked me how many people I had (one) and how many bags I had (one traveling backpack and one computer backpack), and he claimed he found a car that suits my needs. It was spacious and had good mileage, and it also almost doubled my car rental price. I was thinking, I have ONE person, how is it being more spacious fitting my need? When I saw the price, I was pretty shocked and said when I booked online, it wasn't that expensive. He said some things that made me think that I didn't pay attention to whether it included taxes and fees, but looking back, I know the price I saw online did include taxes and fees. I basically had to tell him to find a car with just the base price (this car he found for me cost $12 or so more per day because of \"vehicle upgrade\"). BUT, he tried yet AGAIN and found a car that cost $6 more per day because of vehicle upgrade. I REALLY don't like how they try to squeeze more money out of you.  Finally, after taking MUCH longer than it otherwise should have, he gave me a car that matched the price I paid for online. Mind you, this was when I picked up the car.   The car itself was fine, though it was bad at accelerating. Other than that, no complaints about the car; no problems except that the key had self-locking issues or something, the doors would lock on its own randomly. I never really figured that out. In any case, I'm not a fan of Hertz; really bad first impression, and I'm not going to use Hertz again.\n",
            ":pred: + :stars: 5 :text: I actually had the opposite experience as Brad H (see his review on 7/10/08). I want to compliment two of the cashiers/regular workers and one of the managers.   I wanted to buy a cat tower but I noticed that one of them had fur on it already! And you know how territorial cats are, my cat probably wouldn't want anything to do with it if it had already been scented. So I asked a nice young gal about how they sold them and if we are supposed to carry off what's displayed or if they are in the back somewhere in boxes. She said whatever is out on the floor is all they have usually unless they have a couple extras in the very top shelves. She offered to call her manager for me and I accepted.   The manager came immediately and was helpful and friendly. She offered to give me a discount on the one that had fur on it and she also went to see if there were extras in those top-shelf areas. There were, but I felt bad (and didn't have much time) making her get someone with a forklift to get it down and go through all that trouble. Anyway, I ended up getting a different one that had no trace of \"being tested out\" -- which isn't actually allowed, so someone must have snuck their animal onto that other one or something. She helped me carry mine to the register.   Then to top it off, the cashier helped me not only carry it out to my car, but spent like 5 minutes out there in the AZ heat with me as we figured out how to fit the darn thing in my car! She was friendly and happy to help the whole time.   Overall I am really satisfied with my time spent there and even though all Petsmarts have pretty expensive items, their people make it worth the experience.\n",
            ":pred: + :stars: 5 :text: Waited 1.5 hrs on a sat, was well worth it! Brisket and sausage were the best I have had!\n",
            ":pred: + :stars: 5 :text: Best Sicilian style pizza anywhere! I grew up with this pizza and I'm so glad it's still around. We get it every time we come back to visit. So happy they're now selling their pizza in stores (in frozen section) so I can bring it back to Houston with me each visit!\n",
            ":pred: + :stars: 2 :text: This place is over HYPED, the pizza was ok NOT great. If you're looking for a place to sit and chill out , it's a good spot to do just that.\n"
          ],
          "name": "stdout"
        }
      ]
    }
  ]
}